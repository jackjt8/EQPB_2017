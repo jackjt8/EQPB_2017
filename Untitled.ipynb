{
 "cells": [
  {
   "cell_type": "code",
   "execution_count": 1,
   "metadata": {},
   "outputs": [
    {
     "ename": "AttributeError",
     "evalue": "__exit__",
     "output_type": "error",
     "traceback": [
      "\u001b[1;31m---------------------------------------------------------------------------\u001b[0m",
      "\u001b[1;31mAttributeError\u001b[0m                            Traceback (most recent call last)",
      "\u001b[1;32m<ipython-input-1-3171a671e4ce>\u001b[0m in \u001b[0;36m<module>\u001b[1;34m()\u001b[0m\n\u001b[0;32m     43\u001b[0m     \u001b[0mthreads\u001b[0m \u001b[1;33m=\u001b[0m \u001b[1;36m8\u001b[0m\u001b[1;33m\u001b[0m\u001b[0m\n\u001b[0;32m     44\u001b[0m \u001b[1;33m\u001b[0m\u001b[0m\n\u001b[1;32m---> 45\u001b[1;33m     \u001b[1;32mwith\u001b[0m \u001b[0mPool\u001b[0m\u001b[1;33m(\u001b[0m\u001b[0mthreads\u001b[0m\u001b[1;33m+\u001b[0m\u001b[1;36m1\u001b[0m\u001b[1;33m)\u001b[0m \u001b[1;32mas\u001b[0m \u001b[0mp\u001b[0m\u001b[1;33m:\u001b[0m\u001b[1;33m\u001b[0m\u001b[0m\n\u001b[0m\u001b[0;32m     46\u001b[0m         \u001b[0mp\u001b[0m\u001b[1;33m.\u001b[0m\u001b[0mmap\u001b[0m\u001b[1;33m(\u001b[0m\u001b[0mmp_worker\u001b[0m\u001b[1;33m,\u001b[0m\u001b[1;33m(\u001b[0m\u001b[1;33m(\u001b[0m\u001b[0moutput_data\u001b[0m\u001b[1;33m,\u001b[0m \u001b[0mn\u001b[0m\u001b[1;33m,\u001b[0m \u001b[0mlthres\u001b[0m\u001b[1;33m)\u001b[0m\u001b[1;33m)\u001b[0m\u001b[1;33m)\u001b[0m\u001b[1;33m\u001b[0m\u001b[0m\n\u001b[0;32m     47\u001b[0m \u001b[1;33m\u001b[0m\u001b[0m\n",
      "\u001b[1;31mAttributeError\u001b[0m: __exit__"
     ]
    }
   ],
   "source": [
    "from multiprocessing import Pool\n",
    "#import threading\n",
    "import time\n",
    "\n",
    "###\n",
    "\n",
    "satlist = [56]\n",
    "L_thres = [0.05,0.07,0.10,0.20]\n",
    "\n",
    "###\n",
    "\n",
    "def mp_worker((output_data, n, lthres)):\n",
    "    # setup the current file we are using\n",
    "    # removes deciaml point for lthres\n",
    "    slthres = ''.join(e for e in str(lthres) if e.isalnum())\n",
    "    # file...\n",
    "    current_file = 'Ltemp_' + str(n) + '_' + slthres + '.ascii'\n",
    "    \n",
    "    print '=== %s --- START' % (current_file)\n",
    "\n",
    "    his_data = [] #not sure this one is necessary?\n",
    "    dday = output_data[n]['decimal_day']\n",
    "    ls = output_data[n]['L_shell']\n",
    "    #trying to match EQ and PB based on two conditions: delta T < 0.5 days and delta L (in this case) < 1\n",
    "    for i in indices:\n",
    "        for j in range(len(L_shells)):\n",
    "            date = datetime.strptime(str(eq_datetimes[j])[:10], \"%Y-%m-%d\")\n",
    "            int_diy = date.timetuple().tm_yday\n",
    "            rest = (float(str(eq_datetimes[j])[11:13])/24) + (float(str(eq_datetimes[j])[14:16])/(24*60))+(float(str(eq_datetimes[j])[17:19])/(24*3600))\n",
    "            diy = int_diy + rest\n",
    "            del_T = dday[i]-diy\n",
    "            del_L = ls[i]-L_shells[j]\n",
    "            if abs(del_L) < lthres and  abs(del_T) < 0.5: # lthres use to be 1.\n",
    "                dT = del_T*24\n",
    "                #print dT, ls[i]\n",
    "                #append it to the file\n",
    "                with open(current_file, 'a') as f:\n",
    "                    np.savetxt(f, dT)\n",
    "    print '=== %s COMPLETED' % (current_file)\n",
    "\n",
    "if __name__ == '__main__':\n",
    "    start_time = time.clock()\n",
    "    threads = 8\n",
    "    \n",
    "    with Pool(threads+1) as p:\n",
    "        p.map(mp_worker,((output_data, n, lthres)))\n",
    "    \n",
    "    #mp_handler()\n",
    "    print ' '\n",
    "    print \"--- %s seconds ---\" % (time.clock() - start_time)"
   ]
  }
 ],
 "metadata": {
  "kernelspec": {
   "display_name": "Python 2",
   "language": "python",
   "name": "python2"
  },
  "language_info": {
   "codemirror_mode": {
    "name": "ipython",
    "version": 2
   },
   "file_extension": ".py",
   "mimetype": "text/x-python",
   "name": "python",
   "nbconvert_exporter": "python",
   "pygments_lexer": "ipython2",
   "version": "2.7.13"
  }
 },
 "nbformat": 4,
 "nbformat_minor": 2
}
