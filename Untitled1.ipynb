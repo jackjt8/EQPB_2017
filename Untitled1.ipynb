{
 "cells": [
  {
   "cell_type": "code",
   "execution_count": 32,
   "metadata": {},
   "outputs": [
    {
     "name": "stdout",
     "output_type": "stream",
     "text": [
      "=== Ltemp_56_004.ascii\n",
      "dL value: 0.04 --- Conf Level: 2.84524420822 --- Time for pass: 0.000863603573634\n",
      "Nmax, Nbg, sig, nsig\n",
      "10 2.21428571429 3.27716278484 2.84524420822\n",
      "=== Ltemp_56_007.ascii\n",
      "dL value: 0.07 --- Conf Level: 3.12366018474 --- Time for pass: 0.00179515765694\n",
      "Nmax, Nbg, sig, nsig\n",
      "65 14.0 20.591260282 3.12366018474\n",
      "=== Ltemp_56_01.ascii\n",
      "dL value: 0.1 --- Conf Level: 3.09878916159 --- Time for pass: 0.001901429094\n",
      "Nmax, Nbg, sig, nsig\n",
      "69 14.6 22.0531176934 3.09878916159\n",
      "=== Ltemp_56_013.ascii\n",
      "dL value: 0.13 --- Conf Level: 2.99190190966 --- Time for pass: 0.00134162750942\n",
      "Nmax, Nbg, sig, nsig\n",
      "24 5.1 7.80320446996 2.99190190966\n",
      "=== Ltemp_56_016.ascii\n",
      "dL value: 0.16 --- Conf Level: 2.94562630209 --- Time for pass: 0.00144315821331\n",
      "Nmax, Nbg, sig, nsig\n",
      "26 5.61904761905 8.60496086417 2.94562630209\n",
      "=== Ltemp_56_019.ascii\n",
      "dL value: 0.19 --- Conf Level: 2.68973135917 --- Time for pass: 0.00141787430243\n",
      "Nmax, Nbg, sig, nsig\n",
      "24 6.14285714286 8.65907569182 2.68973135917\n",
      " \n",
      "--- 0.0481172572961 seconds ---\n"
     ]
    },
    {
     "data": {
      "image/png": "[encoded data removed]",
      "text/plain": [
       "<matplotlib.figure.Figure at 0xa271da0>"
      ]
     },
     "metadata": {},
     "output_type": "display_data"
    }
   ],
   "source": [
    "import gps_particle_data\n",
    "import wget\n",
    "import os\n",
    "import numpy as np \n",
    "import time\n",
    "import json\n",
    "import sys\n",
    "import math\n",
    "from datetime import datetime, timedelta, date\n",
    "from itertools import compress\n",
    "from random import randint\n",
    "import urllib2\n",
    "import aacgmv2\n",
    "import scipy\n",
    "import matplotlib\n",
    "from matplotlib import gridspec\n",
    "import numpy as np\n",
    "import matplotlib.pyplot as plt\n",
    "%matplotlib inline \n",
    "\n",
    "start_time = time.clock()\n",
    "L_thres = [0.04,0.07,0.10,0.13,0.16,0.19]\n",
    "conflvl = []\n",
    "\n",
    "for lthres in L_thres:\n",
    "    start = time.clock()\n",
    "    \n",
    "    # setup the current file we are using\n",
    "    slthres = ''.join(e for e in str(lthres) if e.isalnum())\n",
    "    current_file = 'Ltemp_' + str(n) + '_' + slthres + '.ascii'\n",
    "    \n",
    "    print '=== %s' % (current_file)\n",
    "    \n",
    "    #plot the data so far\n",
    "    curdata = np.loadtxt(current_file)\n",
    "    #convert the data into histogram bins.\n",
    "    bins = np.arange(min(curdata), max(curdata)+1)\n",
    "    hist, bin_edges = np.histogram(curdata,bins)\n",
    "    \n",
    "    #print hist # number of items per bin\n",
    "    #print bin_edges # interval of each bin.\n",
    "    \n",
    "    # n{sig} = (Nmax - Nbg/{sig})     taken from S. Yu Aleksandrin et al.: High-energy charged particle bursts\n",
    "    \n",
    "    Nmax = max(hist)\n",
    "    Nbg = np.mean(hist)\n",
    "    sig = np.std(hist) #Should be from the background value...\n",
    "    \n",
    "    #nsig = (Nmax - Nbg/sig) # Confidence between 10~70 :: approx the plot we want.\n",
    "    nsig = (Nmax - Nbg/sig)/sig # -- We want it in a number of standard deviations...\n",
    "    #nsig = (Nmax - Nbg)/sig # Confidence between 2~2.5 :: wrong shape.\n",
    "    \n",
    "    \n",
    "    conflvl.append(nsig)\n",
    "    \n",
    "    ourstring = 'dL value: %s --- Conf Level: %s --- Time for pass: %s' % (lthres, nsig, (time.clock() - start))\n",
    "    print ourstring\n",
    "    print 'Nmax, Nbg, sig, nsig'\n",
    "    print Nmax, Nbg, sig, nsig\n",
    "\n",
    "\n",
    "plt.plot(L_thres, conflvl)\n",
    "plttitle = 'Confidence level with differing {delta}L values for Satellite %s' % (n)\n",
    "plt.title(plttitle)\n",
    "plt.xlabel('{delta}L')\n",
    "plt.ylabel('Confidence level')\n",
    "\n",
    "print \" \"\n",
    "print \"--- %s seconds ---\" % (time.clock() - start_time) \n",
    "\n"
   ]
  },
  {
   "cell_type": "code",
   "execution_count": 34,
   "metadata": {},
   "outputs": [
    {
     "data": {
      "text/plain": [
       "array([ 0.01,  0.02,  0.03,  0.04,  0.05,  0.06,  0.07,  0.08,  0.09,\n",
       "        0.1 ,  0.11,  0.12,  0.13,  0.14,  0.15,  0.16,  0.17,  0.18,\n",
       "        0.19,  0.2 ])"
      ]
     },
     "execution_count": 34,
     "metadata": {},
     "output_type": "execute_result"
    }
   ],
   "source": [
    "np.arange(0.01,0.21,0.01)"
   ]
  }
 ],
 "metadata": {
  "kernelspec": {
   "display_name": "Python 2",
   "language": "python",
   "name": "python2"
  },
  "language_info": {
   "codemirror_mode": {
    "name": "ipython",
    "version": 2
   },
   "file_extension": ".py",
   "mimetype": "text/x-python",
   "name": "python",
   "nbconvert_exporter": "python",
   "pygments_lexer": "ipython2",
   "version": "2.7.13"
  }
 },
 "nbformat": 4,
 "nbformat_minor": 2
}
