{
 "cells": [
  {
   "cell_type": "code",
   "execution_count": 1,
   "metadata": {
    "collapsed": true
   },
   "outputs": [],
   "source": [
    "import gps_particle_data\n",
    "import wget\n",
    "import os\n",
    "import numpy as np \n",
    "import time\n",
    "import json\n",
    "import sys\n",
    "import math\n",
    "from datetime import datetime, timedelta, date\n",
    "from itertools import compress\n",
    "from random import randint\n",
    "import urllib2\n",
    "import aacgmv2\n",
    "import scipy\n",
    "import matplotlib\n",
    "from matplotlib import gridspec\n",
    "import numpy as np\n",
    "import matplotlib.pyplot as plt\n",
    "%matplotlib inline "
   ]
  },
  {
   "cell_type": "code",
   "execution_count": 2,
   "metadata": {},
   "outputs": [
    {
     "name": "stdout",
     "output_type": "stream",
     "text": [
      "\n",
      "====================================\n",
      "Loading data for satellite  56\n",
      "File : https://www.ngdc.noaa.gov/stp/space-weather/satellite-data/satellite-systems/gps/data/ns56/ns56_160103_v1.03.ascii\n",
      "File : https://www.ngdc.noaa.gov/stp/space-weather/satellite-data/satellite-systems/gps/data/ns56/ns56_160110_v1.03.ascii\n",
      "File : https://www.ngdc.noaa.gov/stp/space-weather/satellite-data/satellite-systems/gps/data/ns56/ns56_160117_v1.03.ascii\n",
      "File : https://www.ngdc.noaa.gov/stp/space-weather/satellite-data/satellite-systems/gps/data/ns56/ns56_160124_v1.03.ascii\n",
      "File : https://www.ngdc.noaa.gov/stp/space-weather/satellite-data/satellite-systems/gps/data/ns56/ns56_160131_v1.03.ascii\n",
      "File : https://www.ngdc.noaa.gov/stp/space-weather/satellite-data/satellite-systems/gps/data/ns56/ns56_160207_v1.03.ascii\n",
      "File : https://www.ngdc.noaa.gov/stp/space-weather/satellite-data/satellite-systems/gps/data/ns56/ns56_160214_v1.03.ascii\n",
      "File : https://www.ngdc.noaa.gov/stp/space-weather/satellite-data/satellite-systems/gps/data/ns56/ns56_160221_v1.03.ascii\n",
      "File : https://www.ngdc.noaa.gov/stp/space-weather/satellite-data/satellite-systems/gps/data/ns56/ns56_160228_v1.03.ascii\n",
      "File : https://www.ngdc.noaa.gov/stp/space-weather/satellite-data/satellite-systems/gps/data/ns56/ns56_160306_v1.03.ascii\n",
      "File : https://www.ngdc.noaa.gov/stp/space-weather/satellite-data/satellite-systems/gps/data/ns56/ns56_160313_v1.03.ascii\n",
      "File : https://www.ngdc.noaa.gov/stp/space-weather/satellite-data/satellite-systems/gps/data/ns56/ns56_160320_v1.03.ascii\n",
      "File : https://www.ngdc.noaa.gov/stp/space-weather/satellite-data/satellite-systems/gps/data/ns56/ns56_160327_v1.03.ascii\n",
      "File : https://www.ngdc.noaa.gov/stp/space-weather/satellite-data/satellite-systems/gps/data/ns56/ns56_160403_v1.03.ascii\n",
      "File : https://www.ngdc.noaa.gov/stp/space-weather/satellite-data/satellite-systems/gps/data/ns56/ns56_160410_v1.03.ascii\n",
      "File : https://www.ngdc.noaa.gov/stp/space-weather/satellite-data/satellite-systems/gps/data/ns56/ns56_160417_v1.03.ascii\n",
      "File : https://www.ngdc.noaa.gov/stp/space-weather/satellite-data/satellite-systems/gps/data/ns56/ns56_160424_v1.03.ascii\n",
      "File : https://www.ngdc.noaa.gov/stp/space-weather/satellite-data/satellite-systems/gps/data/ns56/ns56_160501_v1.03.ascii\n",
      "File : https://www.ngdc.noaa.gov/stp/space-weather/satellite-data/satellite-systems/gps/data/ns56/ns56_160508_v1.03.ascii\n",
      "File : https://www.ngdc.noaa.gov/stp/space-weather/satellite-data/satellite-systems/gps/data/ns56/ns56_160515_v1.03.ascii\n",
      "File : https://www.ngdc.noaa.gov/stp/space-weather/satellite-data/satellite-systems/gps/data/ns56/ns56_160522_v1.03.ascii\n",
      "File : https://www.ngdc.noaa.gov/stp/space-weather/satellite-data/satellite-systems/gps/data/ns56/ns56_160529_v1.03.ascii\n",
      "File : https://www.ngdc.noaa.gov/stp/space-weather/satellite-data/satellite-systems/gps/data/ns56/ns56_160605_v1.03.ascii\n",
      "File : https://www.ngdc.noaa.gov/stp/space-weather/satellite-data/satellite-systems/gps/data/ns56/ns56_160612_v1.03.ascii\n",
      "File : https://www.ngdc.noaa.gov/stp/space-weather/satellite-data/satellite-systems/gps/data/ns56/ns56_160619_v1.03.ascii\n",
      "File : https://www.ngdc.noaa.gov/stp/space-weather/satellite-data/satellite-systems/gps/data/ns56/ns56_160626_v1.03.ascii\n",
      "File : https://www.ngdc.noaa.gov/stp/space-weather/satellite-data/satellite-systems/gps/data/ns56/ns56_160703_v1.03.ascii\n",
      "File : https://www.ngdc.noaa.gov/stp/space-weather/satellite-data/satellite-systems/gps/data/ns56/ns56_160710_v1.03.ascii\n",
      "File : https://www.ngdc.noaa.gov/stp/space-weather/satellite-data/satellite-systems/gps/data/ns56/ns56_160717_v1.03.ascii\n",
      "File : https://www.ngdc.noaa.gov/stp/space-weather/satellite-data/satellite-systems/gps/data/ns56/ns56_160724_v1.03.ascii\n",
      "File : https://www.ngdc.noaa.gov/stp/space-weather/satellite-data/satellite-systems/gps/data/ns56/ns56_160731_v1.03.ascii\n",
      "File : https://www.ngdc.noaa.gov/stp/space-weather/satellite-data/satellite-systems/gps/data/ns56/ns56_160807_v1.03.ascii\n",
      "File : https://www.ngdc.noaa.gov/stp/space-weather/satellite-data/satellite-systems/gps/data/ns56/ns56_160814_v1.03.ascii\n",
      "File : https://www.ngdc.noaa.gov/stp/space-weather/satellite-data/satellite-systems/gps/data/ns56/ns56_160821_v1.03.ascii\n",
      "File : https://www.ngdc.noaa.gov/stp/space-weather/satellite-data/satellite-systems/gps/data/ns56/ns56_160828_v1.03.ascii\n",
      "File : https://www.ngdc.noaa.gov/stp/space-weather/satellite-data/satellite-systems/gps/data/ns56/ns56_160904_v1.03.ascii\n",
      "File : https://www.ngdc.noaa.gov/stp/space-weather/satellite-data/satellite-systems/gps/data/ns56/ns56_160911_v1.03.ascii\n",
      "File : https://www.ngdc.noaa.gov/stp/space-weather/satellite-data/satellite-systems/gps/data/ns56/ns56_160918_v1.03.ascii\n",
      "File : https://www.ngdc.noaa.gov/stp/space-weather/satellite-data/satellite-systems/gps/data/ns56/ns56_160925_v1.03.ascii\n",
      "File : https://www.ngdc.noaa.gov/stp/space-weather/satellite-data/satellite-systems/gps/data/ns56/ns56_161002_v1.03.ascii\n",
      "File : https://www.ngdc.noaa.gov/stp/space-weather/satellite-data/satellite-systems/gps/data/ns56/ns56_161009_v1.03.ascii\n",
      "File : https://www.ngdc.noaa.gov/stp/space-weather/satellite-data/satellite-systems/gps/data/ns56/ns56_161016_v1.03.ascii\n",
      "File : https://www.ngdc.noaa.gov/stp/space-weather/satellite-data/satellite-systems/gps/data/ns56/ns56_161023_v1.03.ascii\n",
      "File : https://www.ngdc.noaa.gov/stp/space-weather/satellite-data/satellite-systems/gps/data/ns56/ns56_161030_v1.03.ascii\n",
      "File : https://www.ngdc.noaa.gov/stp/space-weather/satellite-data/satellite-systems/gps/data/ns56/ns56_161106_v1.03.ascii\n",
      "File : https://www.ngdc.noaa.gov/stp/space-weather/satellite-data/satellite-systems/gps/data/ns56/ns56_161113_v1.03.ascii\n",
      "File : https://www.ngdc.noaa.gov/stp/space-weather/satellite-data/satellite-systems/gps/data/ns56/ns56_161120_v1.03.ascii\n",
      "File : https://www.ngdc.noaa.gov/stp/space-weather/satellite-data/satellite-systems/gps/data/ns56/ns56_161127_v1.03.ascii\n",
      "File : https://www.ngdc.noaa.gov/stp/space-weather/satellite-data/satellite-systems/gps/data/ns56/ns56_161204_v1.03.ascii\n",
      "File : https://www.ngdc.noaa.gov/stp/space-weather/satellite-data/satellite-systems/gps/data/ns56/ns56_161211_v1.03.ascii\n",
      "File : https://www.ngdc.noaa.gov/stp/space-weather/satellite-data/satellite-systems/gps/data/ns56/ns56_161218_v1.03.ascii\n",
      "File : https://www.ngdc.noaa.gov/stp/space-weather/satellite-data/satellite-systems/gps/data/ns56/ns56_161225_v1.03.ascii\n",
      "--- 1156.32306226 seconds ---\n"
     ]
    }
   ],
   "source": [
    "start_time = time.clock()\n",
    "start_date = datetime(2016,1,1,0,0,0);\n",
    "end_date = datetime(2017,1,1,0,0,0);\n",
    "satlist = [56]\n",
    "#L_thres = np.arange(0.01,0.21,0.01)\n",
    "L_thres = [0.05,0.07,0.10,0.20]\n",
    "#alt = np.arange(0.0,805.0,5.0) # 0 to 800 in km\n",
    "\n",
    "ms = gps_particle_data.meta_search(satlist); \n",
    "\n",
    "ms.load_data(start_date,end_date);\n",
    "print \"--- %s seconds ---\" % (time.clock() - start_time)"
   ]
  },
  {
   "cell_type": "code",
   "execution_count": 3,
   "metadata": {},
   "outputs": [
    {
     "name": "stdout",
     "output_type": "stream",
     "text": [
      "--- 8.15184067015 seconds ---\n"
     ]
    }
   ],
   "source": [
    "start_time = time.clock()\n",
    "#Get earthquakes for given conditions\n",
    "eq_s = gps_particle_data.earthquake_search(start_date,end_date, min_magnitude=4,min_lat=-90,max_lat=90,min_lon=-180,max_lon=180)\n",
    "#Calculate L-shells of the earthquakes\n",
    "L_shells = eq_s.get_L_shells(400.0)\n",
    "#EQ datetimes\n",
    "eq_datetimes = eq_s.get_datetimes()\n",
    "print \"--- %s seconds ---\" % (time.clock() - start_time)"
   ]
  },
  {
   "cell_type": "code",
   "execution_count": 4,
   "metadata": {},
   "outputs": [
    {
     "name": "stdout",
     "output_type": "stream",
     "text": [
      "842.021599411 1657.60473582\n"
     ]
    }
   ],
   "source": [
    "n = 56\n",
    "\n",
    "#find mean and standard deviation for given period of time\n",
    "output_data = ms.get_all_data_by_satellite()\n",
    "signame = 'rate_electron_measured';\n",
    "signal = np.asarray(output_data[n][signame])[:,2];\n",
    "avg = np.mean(signal)\n",
    "stddev = np.std(signal)\n",
    "print avg, stddev"
   ]
  },
  {
   "cell_type": "code",
   "execution_count": 5,
   "metadata": {},
   "outputs": [
    {
     "name": "stdout",
     "output_type": "stream",
     "text": [
      "--- 0.157298048555 seconds ---\n"
     ]
    }
   ],
   "source": [
    "start_time = time.clock()\n",
    "r = output_data[n][signame]\n",
    "#calculations performed w.r.t. channel 2 (electron rates)\n",
    "ch2 = np.asarray(r)[:,2]\n",
    "#find difference between signal and average\n",
    "sig_dif = np.subtract(ch2, avg)\n",
    "#ratio in terms of std dev\n",
    "ratio = np.divide(sig_dif, stddev)\n",
    "\n",
    "indices = []\n",
    "burst_indices = ratio>4\n",
    "\n",
    "#get indices of the signal points with sig_dif value > 4 sigma\n",
    "for i in range(len(burst_indices)):\n",
    "    if burst_indices[i] == True:\n",
    "        indices.append(i)\n",
    "print \"--- %s seconds ---\" % (time.clock() - start_time)        "
   ]
  },
  {
   "cell_type": "code",
   "execution_count": 6,
   "metadata": {},
   "outputs": [
    {
     "name": "stdout",
     "output_type": "stream",
     "text": [
      "56 0.05\n",
      "56 0.07\n",
      "56 0.1\n",
      "56 0.2\n",
      "=Pre-MP time: 0.0005147650254 seconds=\n"
     ]
    }
   ],
   "source": [
    "start_time = time.clock()\n",
    "data = []\n",
    "    \n",
    "for x in satlist:\n",
    "    for y in L_thres:\n",
    "        data.append(output_data[x]) # append output data\n",
    "        data.append(x) # append n\n",
    "        data.append(y) # append lthres\n",
    "        print x,y\n",
    "print \"=Pre-MP time: %s seconds=\" % (time.clock() - start_time)        "
   ]
  },
  {
   "cell_type": "code",
   "execution_count": null,
   "metadata": {
    "scrolled": true
   },
   "outputs": [],
   "source": [
    "import multiprocessing\n",
    "import time\n",
    "\n",
    "def mp_worker((output_data, n, lthres)):\n",
    "    # setup the current file we are using\n",
    "    # removes deciaml point for lthres\n",
    "    slthres = ''.join(e for e in str(lthres) if e.isalnum())\n",
    "    # file...\n",
    "    current_file = 'Ltemp_' + str(n) + '_' + slthres + '.ascii'\n",
    "    \n",
    "    print '=== %s --- START' % (current_file)\n",
    "\n",
    "    his_data = [] #not sure this one is necessary?\n",
    "    dday = output_data[n]['decimal_day']\n",
    "    ls = output_data[n]['L_shell']\n",
    "    #trying to match EQ and PB based on two conditions: delta T < 0.5 days and delta L (in this case) < 1\n",
    "    for i in indices:\n",
    "        for j in range(len(L_shells)):\n",
    "            date = datetime.strptime(str(eq_datetimes[j])[:10], \"%Y-%m-%d\")\n",
    "            int_diy = date.timetuple().tm_yday\n",
    "            rest = (float(str(eq_datetimes[j])[11:13])/24) + (float(str(eq_datetimes[j])[14:16])/(24*60))+(float(str(eq_datetimes[j])[17:19])/(24*3600))\n",
    "            diy = int_diy + rest\n",
    "            del_T = dday[i]-diy\n",
    "            del_L = ls[i]-L_shells[j]\n",
    "            if abs(del_L) < lthres and  abs(del_T) < 0.5: # lthres use to be 1.\n",
    "                dT = del_T*24\n",
    "                #print dT, ls[i]\n",
    "                #append it to the file\n",
    "                with open(current_file, 'a') as f:\n",
    "                    np.savetxt(f, dT)\n",
    "    print '=== %s COMPLETED' % (current_file)\n",
    "\n",
    "def mp_handler():\n",
    "    p = multiprocessing.Pool(4)\n",
    "    p.map(mp_worker, data)\n",
    "\n",
    "if __name__ == '__main__':\n",
    "    start_time = time.clock()\n",
    "    mp_handler()\n",
    "    print ' '\n",
    "    print \"--- %s seconds ---\" % (time.clock() - start_time)"
   ]
  },
  {
   "cell_type": "code",
   "execution_count": null,
   "metadata": {
    "collapsed": true
   },
   "outputs": [],
   "source": [
    "for lthres in L_thres:\n",
    "    start = time.clock()\n",
    "    # setup the current file we are using\n",
    "    slthres = ''.join(e for e in str(lthres) if e.isalnum())\n",
    "    current_file = 'Ltemp_' + str(n) + '_' + slthres + '.ascii'\n",
    "    \n",
    "    print '=== %s' % (current_file)\n",
    "    \n",
    "    #plot the data so far\n",
    "    curdata = np.loadtxt(current_file)\n",
    "    #convert the data into histogram bins.\n",
    "    bins = np.arange(min(curdata), max(curdata)+1)\n",
    "    hist, bin_edges = np.histogram(curdata,bins)\n",
    "    \n",
    "    #print hist # number of items per bin\n",
    "    #print bin_edges # interval of each bin.\n",
    "    \n",
    "    # n{sig} = (Nmax - Nbg/{sig})     taken from S. Yu Aleksandrin et al.: High-energy charged particle bursts\n",
    "    \n",
    "    Nmax = max(hist)\n",
    "    Nbg = np.mean(hist)\n",
    "    sig = np.std(hist) #Should be from the background value...\n",
    "    \n",
    "    #nsig = (Nmax - Nbg/sig) # Confidence between 10~70 :: approx the plot we want.\n",
    "    nsig = (Nmax - Nbg/sig)/sig # -- We want it in a number of standard deviations...\n",
    "    #nsig = (Nmax - Nbg)/sig # Confidence between 2~2.5 :: wrong shape.\n",
    "    \n",
    "    \n",
    "    conflvl.append(nsig)\n",
    "    \n",
    "    ourstring = 'dL value: %s --- Conf Level: %s --- Time for pass: %s' % (lthres, nsig, (time.clock() - start))\n",
    "    print ourstring\n",
    "    print 'Nmax, Nbg, sig, nsig'\n",
    "    print Nmax, Nbg, sig, nsig\n",
    "\n",
    "\n",
    "plt.plot(L_thres, conflvl)\n",
    "plttitle = 'Confidence level with differing {delta}L values for Satellite %s' % (n)\n",
    "plt.title(plttitle)\n",
    "plt.xlabel('{delta}L')\n",
    "plt.ylabel('Confidence level')\n",
    "\n",
    "print \" \"\n",
    "print \"--- %s seconds ---\" % (time.clock() - start_time) "
   ]
  },
  {
   "cell_type": "code",
   "execution_count": null,
   "metadata": {
    "collapsed": true
   },
   "outputs": [],
   "source": [
    "#plot the data so far\n",
    "fig = plt.figure(figsize=(10, 8))\n",
    "his = np.loadtxt('temp_cor56_largeL.ascii')\n",
    "plt.hist(his, bins = np.arange(min(his), max(his)+1))\n",
    "plt.xlabel(u'ΔT / hours', fontsize  = 30)\n",
    "plt.ylabel('# events', fontsize = 30)\n",
    "plt.show()"
   ]
  },
  {
   "cell_type": "code",
   "execution_count": null,
   "metadata": {
    "collapsed": true
   },
   "outputs": [],
   "source": [
    "print Nmax\n",
    "print Nbg\n",
    "print sig\n",
    "print nsig"
   ]
  }
 ],
 "metadata": {
  "kernelspec": {
   "display_name": "Python 2",
   "language": "python",
   "name": "python2"
  },
  "language_info": {
   "codemirror_mode": {
    "name": "ipython",
    "version": 2
   },
   "file_extension": ".py",
   "mimetype": "text/x-python",
   "name": "python",
   "nbconvert_exporter": "python",
   "pygments_lexer": "ipython2",
   "version": "2.7.13"
  }
 },
 "nbformat": 4,
 "nbformat_minor": 2
}
